{
  "nbformat": 4,
  "nbformat_minor": 0,
  "metadata": {
    "colab": {
      "provenance": [],
      "authorship_tag": "ABX9TyMEnWtfYIGl5qczZ1q9z/Nw",
      "include_colab_link": true
    },
    "kernelspec": {
      "name": "python3",
      "display_name": "Python 3"
    },
    "language_info": {
      "name": "python"
    }
  },
  "cells": [
    {
      "cell_type": "markdown",
      "metadata": {
        "id": "view-in-github",
        "colab_type": "text"
      },
      "source": [
        "<a href=\"https://colab.research.google.com/github/Svar7769/periodic_review_inventory_system/blob/master/RL_inv.ipynb\" target=\"_parent\"><img src=\"https://colab.research.google.com/assets/colab-badge.svg\" alt=\"Open In Colab\"/></a>"
      ]
    },
    {
      "cell_type": "code",
      "source": [],
      "metadata": {
        "colab": {
          "base_uri": "https://localhost:8080/",
          "height": 346
        },
        "id": "b7UxxMdw1Bn4",
        "outputId": "ef2f58e6-2a43-4716-f7d4-80437118e012"
      },
      "execution_count": 15,
      "outputs": [
        {
          "output_type": "error",
          "ename": "AttributeError",
          "evalue": "'DataFrame' object has no attribute 'append'",
          "traceback": [
            "\u001b[0;31m---------------------------------------------------------------------------\u001b[0m",
            "\u001b[0;31mAttributeError\u001b[0m                            Traceback (most recent call last)",
            "\u001b[0;32m<ipython-input-15-bcd7cbbf67e7>\u001b[0m in \u001b[0;36m<cell line: 24>\u001b[0;34m()\u001b[0m\n\u001b[1;32m     40\u001b[0m \u001b[0;34m\u001b[0m\u001b[0m\n\u001b[1;32m     41\u001b[0m     \u001b[0;31m# Append data to DataFrame\u001b[0m\u001b[0;34m\u001b[0m\u001b[0;34m\u001b[0m\u001b[0m\n\u001b[0;32m---> 42\u001b[0;31m     data = data.append({\n\u001b[0m\u001b[1;32m     43\u001b[0m         \u001b[0;34m'Date'\u001b[0m\u001b[0;34m:\u001b[0m \u001b[0mdate\u001b[0m\u001b[0;34m,\u001b[0m\u001b[0;34m\u001b[0m\u001b[0;34m\u001b[0m\u001b[0m\n\u001b[1;32m     44\u001b[0m         \u001b[0;34m'Product_ID'\u001b[0m\u001b[0;34m:\u001b[0m \u001b[0;36m1\u001b[0m\u001b[0;34m,\u001b[0m  \u001b[0;31m# Assuming Product_ID is 1 for simplicity\u001b[0m\u001b[0;34m\u001b[0m\u001b[0;34m\u001b[0m\u001b[0m\n",
            "\u001b[0;32m/usr/local/lib/python3.10/dist-packages/pandas/core/generic.py\u001b[0m in \u001b[0;36m__getattr__\u001b[0;34m(self, name)\u001b[0m\n\u001b[1;32m   5987\u001b[0m         ):\n\u001b[1;32m   5988\u001b[0m             \u001b[0;32mreturn\u001b[0m \u001b[0mself\u001b[0m\u001b[0;34m[\u001b[0m\u001b[0mname\u001b[0m\u001b[0;34m]\u001b[0m\u001b[0;34m\u001b[0m\u001b[0;34m\u001b[0m\u001b[0m\n\u001b[0;32m-> 5989\u001b[0;31m         \u001b[0;32mreturn\u001b[0m \u001b[0mobject\u001b[0m\u001b[0;34m.\u001b[0m\u001b[0m__getattribute__\u001b[0m\u001b[0;34m(\u001b[0m\u001b[0mself\u001b[0m\u001b[0;34m,\u001b[0m \u001b[0mname\u001b[0m\u001b[0;34m)\u001b[0m\u001b[0;34m\u001b[0m\u001b[0;34m\u001b[0m\u001b[0m\n\u001b[0m\u001b[1;32m   5990\u001b[0m \u001b[0;34m\u001b[0m\u001b[0m\n\u001b[1;32m   5991\u001b[0m     \u001b[0;32mdef\u001b[0m \u001b[0m__setattr__\u001b[0m\u001b[0;34m(\u001b[0m\u001b[0mself\u001b[0m\u001b[0;34m,\u001b[0m \u001b[0mname\u001b[0m\u001b[0;34m:\u001b[0m \u001b[0mstr\u001b[0m\u001b[0;34m,\u001b[0m \u001b[0mvalue\u001b[0m\u001b[0;34m)\u001b[0m \u001b[0;34m->\u001b[0m \u001b[0;32mNone\u001b[0m\u001b[0;34m:\u001b[0m\u001b[0;34m\u001b[0m\u001b[0;34m\u001b[0m\u001b[0m\n",
            "\u001b[0;31mAttributeError\u001b[0m: 'DataFrame' object has no attribute 'append'"
          ]
        }
      ]
    },
    {
      "cell_type": "code",
      "source": [
        "import pandas as pd\n",
        "import numpy as np\n",
        "from datetime import datetime, timedelta\n",
        "\n",
        "# Parameters\n",
        "start_date = datetime(2023, 1, 1)\n",
        "end_date = datetime(2023, 12, 31)\n",
        "lead_time = 2  # Lead time for order arrival\n",
        "initial_inventory = 100\n",
        "max_order = 50\n",
        "review_period = 7\n",
        "\n",
        "# Generate dates\n",
        "dates = pd.date_range(start=start_date, end=end_date, freq='D')\n",
        "\n",
        "# Create list to store data\n",
        "data_list = []\n",
        "\n",
        "# Initialize inventory and order arrival time\n",
        "inventory_level = initial_inventory\n",
        "order_arrival_time = 0\n",
        "order_quantity = 0  # Define order_quantity outside of the loop\n",
        "\n",
        "for date in dates:\n",
        "    # Simulate demand\n",
        "    demand = np.random.randint(0, 20)  # Random demand between 0 and 19\n",
        "\n",
        "    # Place order if it's a review period\n",
        "    if date.day % review_period == 0:\n",
        "        order_quantity = np.random.randint(0, max_order + 1)  # Random order quantity between 0 and max_order\n",
        "        order_arrival_time = lead_time\n",
        "\n",
        "    # Update inventory level based on demand and order arrival\n",
        "    inventory_level = max(inventory_level + order_arrival_time - demand, 0)\n",
        "\n",
        "    # Update order arrival time\n",
        "    if order_arrival_time > 0:\n",
        "        order_arrival_time -= 1\n",
        "\n",
        "    # Append data to list\n",
        "    data_list.append({\n",
        "        'Date': date,\n",
        "        'Product_ID': 1,  # Assuming Product_ID is 1 for simplicity\n",
        "        'Demand': demand,\n",
        "        'Order_Quantity': order_quantity if order_arrival_time == 0 else 0,\n",
        "        'Order_Arrival_Time': order_arrival_time\n",
        "    })\n",
        "\n",
        "# Convert list of dictionaries to DataFrame\n",
        "data = pd.DataFrame(data_list)\n",
        "\n",
        "# Convert 'Order_Quantity' and 'Order_Arrival_Time' to integers\n",
        "data['Order_Quantity'] = data['Order_Quantity'].astype(int)\n",
        "data['Order_Arrival_Time'] = data['Order_Arrival_Time'].astype(int)\n",
        "\n",
        "# Display the first few rows of the simulated dataset\n",
        "print(data.head())\n"
      ],
      "metadata": {
        "colab": {
          "base_uri": "https://localhost:8080/"
        },
        "id": "Zj9Wn-eEo1Lv",
        "outputId": "3c058244-389f-4cc0-f562-c848dac22e22"
      },
      "execution_count": 18,
      "outputs": [
        {
          "output_type": "stream",
          "name": "stdout",
          "text": [
            "        Date  Product_ID  Demand  Order_Quantity  Order_Arrival_Time\n",
            "0 2023-01-01           1      15               0                   0\n",
            "1 2023-01-02           1      18               0                   0\n",
            "2 2023-01-03           1      13               0                   0\n",
            "3 2023-01-04           1       5               0                   0\n",
            "4 2023-01-05           1       3               0                   0\n"
          ]
        }
      ]
    },
    {
      "cell_type": "code",
      "source": [
        "import numpy as np\n",
        "import pandas as pd\n",
        "import gym\n",
        "from gym import spaces\n",
        "from stable_baselines3 import DQN\n",
        "from itertools import product\n",
        "import random\n",
        "import matplotlib.pyplot as plt\n"
      ],
      "metadata": {
        "id": "7h-nMYmmoSVN"
      },
      "execution_count": 89,
      "outputs": []
    },
    {
      "cell_type": "markdown",
      "source": [
        "# New Section"
      ],
      "metadata": {
        "id": "gW1ifHakommN"
      }
    },
    {
      "cell_type": "code",
      "source": [
        "import gym\n",
        "import numpy as np\n",
        "from gym import spaces\n",
        "\n",
        "def barGraph(row):\n",
        "    date = row['Date'].values[0]\n",
        "    product_id = row['Product_ID'].values[0]\n",
        "    demand = row['Demand'].values[0]\n",
        "    order_quantity = row['Order_Quantity'].values[0]\n",
        "    order_arrival_time = row['Order_Arrival_Time'].values[0]\n",
        "\n",
        "    # Create a bar plot\n",
        "    plt.figure(figsize=(10, 6))\n",
        "    plt.bar(['Demand', 'Order Quantity', 'Order Arrival Time'], [demand, order_quantity, order_arrival_time])\n",
        "    plt.xlabel('Metrics')\n",
        "    plt.ylabel('Quantity')\n",
        "    plt.title(f'Data for Product {product_id} on {date}')\n",
        "    plt.show()\n",
        "\n",
        "class InventoryEnv(gym.Env):\n",
        "    def __init__(self, data):\n",
        "        super(InventoryEnv, self).__init__()\n",
        "        self.data = data\n",
        "        self.product_id = 1  # Assuming Product_ID is 1 for the single-product environment\n",
        "        self.num_days = data['Date'].nunique()\n",
        "\n",
        "        # Inventory management parameters\n",
        "        self.initial_inventory = 50\n",
        "        self.max_order = 50\n",
        "        self.holding_cost = 1\n",
        "        self.shortage_cost = 5\n",
        "        self.order_cost = 2\n",
        "        self.review_period = 7\n",
        "        self.lead_time = 2\n",
        "\n",
        "        # Define action and observation space\n",
        "        self.action_space = spaces.Discrete(self.max_order + 1)  # Orders can be from 0 to max_order\n",
        "        self.observation_space = spaces.Box(low=0, high=self.initial_inventory, shape=(1,), dtype=np.int32)\n",
        "\n",
        "        self.reset()\n",
        "\n",
        "    def reset(self):\n",
        "        self.current_day = 0\n",
        "        self.inventory_level = self.initial_inventory\n",
        "        self.total_cost = 0\n",
        "        return np.array([self.inventory_level])\n",
        "\n",
        "    def step(self, action):\n",
        "        order_quantity = action\n",
        "        # Convert current_day to date\n",
        "        current_date = self.data['Date'].min() + timedelta(days=self.current_day)\n",
        "        # Calculate arrival date for the order\n",
        "        arrival_date = current_date + timedelta(days=self.lead_time)\n",
        "\n",
        "        print(f'OrderQuantity : {order_quantity}, arrival date : {arrival_date}')\n",
        "\n",
        "        # Update 'Order_Arrival_Time' for the corresponding product and arrival date\n",
        "        if arrival_date <= self.data['Date'].max():\n",
        "            self.data.loc[(self.data['Product_ID'] == self.product_id) & (\n",
        "                self.data['Date'] == arrival_date), 'Order_Arrival_Time'] = order_quantity\n",
        "\n",
        "        # Get demand for the current date and product\n",
        "        demand_today_row = self.data.loc[(self.data['Product_ID'] == self.product_id) & (\n",
        "            self.data['Date'] == current_date), 'Demand']\n",
        "        demand_today = demand_today_row.values[0] if not demand_today_row.empty else 0\n",
        "\n",
        "        print(f'Demand Today : {demand_today}')\n",
        "\n",
        "        order_today = self.data.loc[(self.data['Product_ID'] == self.product_id) & (\n",
        "            self.data['Date'] == current_date), 'Order_Arrival_Time'].sum()\n",
        "\n",
        "        print(f'Order Arriving Today: {order_today}')\n",
        "\n",
        "        # Adjust inventory levels based on demand\n",
        "        self.inventory_level = max(self.inventory_level + \\\n",
        "                                   self.data.loc[(self.data['Product_ID'] == self.product_id) & (\n",
        "                                       self.data['Date'] == current_date), 'Order_Arrival_Time'].sum() - demand_today, 0)\n",
        "\n",
        "        # Calculate and update costs for the day\n",
        "        holding_costs = self.holding_cost * self.inventory_level\n",
        "        shortage_costs = self.shortage_cost * max(demand_today - self.inventory_level, 0)\n",
        "        ordering_costs = self.order_cost * order_quantity\n",
        "        self.total_cost += holding_costs + shortage_costs + ordering_costs\n",
        "\n",
        "        # Move to the next date\n",
        "        self.current_day += 1\n",
        "        done = self.current_day >= self.num_days\n",
        "        reward = -self.total_cost\n",
        "        return np.array([self.inventory_level]), reward, done, {}\n",
        "\n",
        "    def plot_inventory_level(self):\n",
        "        # Calculate inventory levels for each day\n",
        "        inventory_levels = []\n",
        "        for day in range(self.num_days):\n",
        "            inventory_level = self.initial_inventory\n",
        "            for i in range(day):\n",
        "                current_date = self.data['Date'].min() + timedelta(days=i)\n",
        "                demand_today_row = self.data.loc[(self.data['Product_ID'] == self.product_id) & (\n",
        "                    self.data['Date'] == current_date), 'Demand']\n",
        "                demand_today = demand_today_row.values[0] if not demand_today_row.empty else 0\n",
        "                order_today = self.data.loc[(self.data['Product_ID'] == self.product_id) & (\n",
        "                    self.data['Date'] == current_date), 'Order_Arrival_Time'].sum()\n",
        "                inventory_level = max(inventory_level + order_today - demand_today, 0)\n",
        "            inventory_levels.append(inventory_level)\n",
        "\n",
        "        # Create a line plot\n",
        "        plt.figure(figsize=(12, 6))\n",
        "        plt.plot(range(self.num_days), inventory_levels, marker='o')\n",
        "        plt.xlabel('Day')\n",
        "        plt.ylabel('Inventory Level')\n",
        "        plt.title('Inventory Level Over Time')\n",
        "        plt.grid(True)\n",
        "        plt.show()\n",
        "\n",
        "\n",
        "    def render(self, mode='human'):\n",
        "        current_date = self.data['Date'].min() + timedelta(days=self.current_day)\n",
        "        print(\n",
        "              f'Day: {self.current_day}, Inventory Level: {self.inventory_level}, Total Cost: {self.total_cost}')\n",
        "        row = self.data[(self.data['Product_ID'] == self.product_id) & (self.data['Date'] == current_date)]\n",
        "        print(row)\n",
        "\n",
        "\n",
        ""
      ],
      "metadata": {
        "id": "QmlTmhcvsMfx"
      },
      "execution_count": 101,
      "outputs": []
    },
    {
      "cell_type": "code",
      "source": [
        "# Check if the necessary columns are present\n",
        "required_columns = ['Date', 'Product_ID', 'Demand', 'Order_Quantity', 'Order_Arrival_Time']\n",
        "missing_columns = [col for col in required_columns if col not in data.columns]\n",
        "\n",
        "if missing_columns:\n",
        "    raise ValueError(f\"Missing columns in the dataset: {missing_columns}\")\n",
        "\n",
        "# Initialize the environment with the synthetic data\n",
        "env = InventoryEnv(data)\n",
        "\n",
        "# Verify Observation Space and Action Space\n",
        "print(\"Observation space:\", env.observation_space)\n",
        "print(\"Action space:\", env.action_space)\n",
        "\n",
        "# Run the environment for a few episodes\n",
        "episodes = 1\n",
        "for episode in range(1, episodes + 1):\n",
        "    state = env.reset()\n",
        "    done = False\n",
        "    score = 0\n",
        "    while not done:\n",
        "        env.render()\n",
        "        action = env.action_space.sample()\n",
        "        # print(f'action : {action}')\n",
        "        next_state, reward, done, info = env.step(action)\n",
        "        score += reward\n",
        "        # print(f'Next state : {next_state}, Reward : {reward}, done : {done}, info: {info}')\n",
        "        # print(f\"Action taken: {action}, Orders: {env.actions[action]}\")\n",
        "    print(f\"Episode: {episode} ended with Score: {score}\")\n",
        "    env.plot_inventory_level()\n",
        "\n"
      ],
      "metadata": {
        "colab": {
          "base_uri": "https://localhost:8080/",
          "height": 594
        },
        "collapsed": true,
        "id": "elGgMA7sqgzI",
        "outputId": "be962cb5-b1bb-437b-d8af-4293966aca17"
      },
      "execution_count": null,
      "outputs": [
        {
          "output_type": "stream",
          "name": "stdout",
          "text": [
            "Observation space: Box(0, 50, (1,), int32)\n",
            "Action space: Discrete(51)\n",
            "Day: 0, Inventory Level: 50, Total Cost: 0\n"
          ]
        },
        {
          "output_type": "display_data",
          "data": {
            "text/plain": [
              "<Figure size 1200x600 with 1 Axes>"
            ],
            "image/png": "[encoded data removed]"
          },
          "metadata": {}
        },
        {
          "output_type": "stream",
          "name": "stdout",
          "text": [
            "OrderQuantity : 25, arrival date : 2023-01-03 00:00:00\n",
            "Demand Today : 15\n",
            "Order Arriving Today: 0\n",
            "Day: 1, Inventory Level: 35, Total Cost: 85\n"
          ]
        }
      ]
    },
    {
      "cell_type": "code",
      "source": [
        "# Load your dataset here\n",
        "data_path = '/content/synthetic_inventory_data.csv'\n",
        "data = pd.read_csv(data_path)\n",
        "\n",
        "# Check if the necessary columns are present\n",
        "required_columns = ['Date', 'Product_ID', 'Demand', 'Order_Quantity', 'Order_Arrival_Time', 'Inventory_Level', 'Holding_Cost', 'Shortage_Cost', 'Ordering_Cost', 'Total_Cost']\n",
        "missing_columns = [col for col in required_columns if col not in data.columns]\n",
        "\n",
        "if missing_columns:\n",
        "    raise ValueError(f\"Missing columns in the dataset: {missing_columns}\")\n",
        "\n",
        "# Initialize the environment with the synthetic data\n",
        "env = InventoryEnv(data)\n",
        "\n",
        "# Train the RL model\n",
        "model = DQN('MlpPolicy', env, verbose=1, device='cpu')\n",
        "model.learn(total_timesteps=10000)\n",
        "\n",
        "# Test the RL model\n",
        "episodes = 10\n",
        "for episode in range(1, episodes+1):\n",
        "    state = env.reset()\n",
        "    done = False\n",
        "    score = 0\n",
        "\n",
        "    while not done:\n",
        "        env.render()\n",
        "        action = random.choice([0, 1])\n",
        "        n_state, reward, done, _ = env.step(action)\n",
        "        score += reward\n",
        "    print('Episode:{} Score:{}'.format(episode, score))"
      ],
      "metadata": {
        "colab": {
          "base_uri": "https://localhost:8080/"
        },
        "id": "3D5Xs6JQoYFD",
        "outputId": "d4b5bb5b-a852-417a-d172-5a2651770aa6"
      },
      "execution_count": null,
      "outputs": [
        {
          "output_type": "stream",
          "name": "stdout",
          "text": [
            "Using cpu device\n",
            "Wrapping the env with a `Monitor` wrapper\n",
            "Wrapping the env in a DummyVecEnv.\n"
          ]
        },
        {
          "output_type": "stream",
          "name": "stderr",
          "text": [
            "/usr/local/lib/python3.10/dist-packages/stable_baselines3/common/vec_env/patch_gym.py:49: UserWarning: You provided an OpenAI Gym environment. We strongly recommend transitioning to Gymnasium environments. Stable-Baselines3 is automatically wrapping your environments in a compatibility layer, which could potentially cause issues.\n",
            "  warnings.warn(\n"
          ]
        }
      ]
    },
    {
      "cell_type": "code",
      "source": [],
      "metadata": {
        "id": "equxj8qToc-b"
      },
      "execution_count": null,
      "outputs": []
    }
  ]
}